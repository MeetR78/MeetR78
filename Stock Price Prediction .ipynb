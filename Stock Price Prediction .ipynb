{
 "cells": [
  {
   "cell_type": "markdown",
   "id": "f6fbcb21-dc25-4c27-952b-e256d55be80a",
   "metadata": {},
   "source": [
    "## Stock Price Prediction"
   ]
  },
  {
   "cell_type": "markdown",
   "id": "7f28b4db-03ce-4e13-82ef-6d0bbcee647a",
   "metadata": {},
   "source": [
    "### Today, so many people are making money staying at home trading in the stock market. It is a plus point for you if you use your experience in the stock market and your machine learning skills for the task of stock price prediction.\n"
   ]
  },
  {
   "cell_type": "markdown",
   "id": "4fc39aaf-0fd2-423c-862e-61492cb3bf12",
   "metadata": {},
   "source": [
    "### Let’s see how to predict stock prices using Machine Learning and the python programming language."
   ]
  },
  {
   "cell_type": "markdown",
   "id": "c79c1a12-d6cf-4432-ab6a-d6be46cce5ed",
   "metadata": {},
   "source": [
    "### I will start this task by importing all the necessary python libraries that we need for this task:\n"
   ]
  },
  {
   "cell_type": "code",
   "execution_count": null,
   "id": "007d8a0a-f17b-4b67-9229-3d99d9496e15",
   "metadata": {},
   "outputs": [],
   "source": [
    "import numpy as np\n",
    "import pandas as pd\n",
    "import matplotlib.pyplot as plt\n",
    "from sklearn import preprocessing\n",
    "from sklearn.model_selection import train_test_split\n",
    "from sklearn.linear_model import LinearRegression\n",
    "from sklearn.metrics import mean_squared_error"
   ]
  },
  {
   "cell_type": "markdown",
   "id": "c9c9c4aa-dba7-4837-a122-76f8cf3aa48b",
   "metadata": {},
   "source": [
    "### Reading the data"
   ]
  },
  {
   "cell_type": "code",
   "execution_count": null,
   "id": "4020e574-8523-4c23-a27a-a99dceeeaba8",
   "metadata": {},
   "outputs": [],
   "source": [
    "df = pd.read_csv(\"price.csv\") "
   ]
  },
  {
   "cell_type": "code",
   "execution_count": null,
   "id": "51f6fb16-b6a7-43e7-9ef8-a8f952d6d91e",
   "metadata": {},
   "outputs": [],
   "source": [
    "df.head(10)"
   ]
  },
  {
   "cell_type": "markdown",
   "id": "da34b19e-2665-4fe1-a1e3-25acb8948b74",
   "metadata": {},
   "source": [
    "#### for summary of data\n"
   ]
  },
  {
   "cell_type": "code",
   "execution_count": null,
   "id": "dbebcc13-148c-41c3-8991-1cdd365960af",
   "metadata": {},
   "outputs": [],
   "source": [
    "df.info() # Summary of data"
   ]
  },
  {
   "cell_type": "code",
   "execution_count": null,
   "id": "d86de24f-c5f0-4bd0-bfd3-ba92eb5d9cac",
   "metadata": {},
   "outputs": [],
   "source": [
    "# Convert the \"Date\" column to datetime\n",
    "df[\"Date\"] = pd.to_datetime(df[\"Date\"])\n",
    "\n",
    "#  Clean and convert \"Close\" and \"Volume\" columns to numeric\n",
    "df[\"Close\"] = df[\"Close\"].str.replace(\",\", \"\").astype(float)\n",
    "df[\"Volume\"] = df[\"Volume\"].str.replace(\",\", \"\").astype(float)\n",
    "\n",
    "# Extract useful features from the \"Date\" column\n",
    "df[\"Year\"] = df[\"Date\"].dt.year\n",
    "df[\"Month\"] = df[\"Date\"].dt.month\n",
    "df[\"Day\"] = df[\"Date\"].dt.day\n",
    "df[\"DayOfWeek\"] = df[\"Date\"].dt.dayofweek  # Monday=0, Sunday=6\n",
    "df[\"ElapsedDays\"] = (df[\"Date\"] - df[\"Date\"].min()).dt.days\n",
    "\n",
    "# Display the updated dataframe\n",
    "print(df.info())\n",
    "print(df.head())\n"
   ]
  },
  {
   "cell_type": "markdown",
   "id": "544e87e3-d29e-4d8e-9523-3203b74b2896",
   "metadata": {},
   "source": [
    "#### Restructuring The DataFrame Into Dependent And Independent Data Frame\n"
   ]
  },
  {
   "cell_type": "code",
   "execution_count": null,
   "id": "917c97dc-67e3-4e20-906b-cfbb3f1cbbde",
   "metadata": {},
   "outputs": [],
   "source": [
    "x = df[[\"Open\",\"High\", \"Low\",\"Volume\",\"ElapsedDays\"]]  # Example features\n",
    "y = df[\"Close\"]  # Target variable"
   ]
  },
  {
   "cell_type": "markdown",
   "id": "4da2327a-9740-4a1e-ac62-6555a2699dc7",
   "metadata": {},
   "source": [
    "#### Split data"
   ]
  },
  {
   "cell_type": "code",
   "execution_count": null,
   "id": "4c63c27e-10c2-4687-ba25-db0cc13d662c",
   "metadata": {},
   "outputs": [],
   "source": [
    "x_train, x_test, y_train, y_test = train_test_split(x, y, test_size=0.2, random_state=42)"
   ]
  },
  {
   "cell_type": "markdown",
   "id": "0b02ec6b-9cbf-406c-9358-73389ace8e54",
   "metadata": {},
   "source": [
    "#### Call Linear Regression Model And us fit() Method With Train DataSet For Training"
   ]
  },
  {
   "cell_type": "code",
   "execution_count": null,
   "id": "a2b8d5c0-2f1d-44bd-a4ff-9442fcda8c88",
   "metadata": {},
   "outputs": [],
   "source": [
    "# Train model\n",
    "model = LinearRegression()\n",
    "model.fit(x_train, y_train)"
   ]
  },
  {
   "cell_type": "markdown",
   "id": "eb590d1b-7dda-484c-9c5c-0b2f691cb513",
   "metadata": {},
   "source": [
    "#### Printing R2 Value , Coeffcient And Intercept"
   ]
  },
  {
   "cell_type": "code",
   "execution_count": null,
   "id": "859f702f-487e-4bc3-bce8-edb17f9693d2",
   "metadata": {},
   "outputs": [],
   "source": [
    "from sklearn.metrics import r2_score"
   ]
  },
  {
   "cell_type": "code",
   "execution_count": null,
   "id": "4b1ba864-6b5e-47f3-ab5d-85cae731c0b0",
   "metadata": {},
   "outputs": [],
   "source": [
    "print(\"R2 Value\",model.score(x_test,y_test))\n",
    "print(\"\\ncoefficient:\\n\",model.coef_)\n",
    "print(\"\\nintercept:\",model.intercept_)"
   ]
  },
  {
   "cell_type": "markdown",
   "id": "7bfb6731-15ff-42e5-9f98-97c9c1d0082d",
   "metadata": {},
   "source": [
    "#### Printing MSE"
   ]
  },
  {
   "cell_type": "code",
   "execution_count": null,
   "id": "a1438253-20a0-4055-832b-3416eedbf19e",
   "metadata": {},
   "outputs": [],
   "source": [
    "print(\"MSE:\", mean_squared_error(y_test, y_pred))"
   ]
  },
  {
   "cell_type": "markdown",
   "id": "ce3a8b16-23cd-4ee9-9334-7c0ef1ed7fb7",
   "metadata": {},
   "source": [
    "#### Using Train Model Predict For Test Data And Than Compare With Original Test Data\n"
   ]
  },
  {
   "cell_type": "code",
   "execution_count": null,
   "id": "4331a0c8-5606-419d-b867-5c0f9ddc6df4",
   "metadata": {},
   "outputs": [],
   "source": [
    "y_pred = model.predict(x_test)"
   ]
  },
  {
   "cell_type": "code",
   "execution_count": null,
   "id": "7253eb4f-78ba-467b-9f6c-0b76f84ac58b",
   "metadata": {},
   "outputs": [],
   "source": [
    "pred = pd.DataFrame({\"Actual\": y_test, \"Predict\":y_pred})\n",
    "df1 = pred.head(10)\n",
    "df1"
   ]
  },
  {
   "cell_type": "code",
   "execution_count": null,
   "id": "4584c4c3-3483-47cf-98b8-aff64b9dc5ed",
   "metadata": {},
   "outputs": [],
   "source": []
  }
 ],
 "metadata": {
  "kernelspec": {
   "display_name": "Python 3 (ipykernel)",
   "language": "python",
   "name": "python3"
  },
  "language_info": {
   "codemirror_mode": {
    "name": "ipython",
    "version": 3
   },
   "file_extension": ".py",
   "mimetype": "text/x-python",
   "name": "python",
   "nbconvert_exporter": "python",
   "pygments_lexer": "ipython3",
   "version": "3.12.4"
  }
 },
 "nbformat": 4,
 "nbformat_minor": 5
}
